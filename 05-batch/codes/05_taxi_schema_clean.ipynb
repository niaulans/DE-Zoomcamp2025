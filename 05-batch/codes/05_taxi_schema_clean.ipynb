{
 "cells": [
  {
   "cell_type": "code",
   "execution_count": 1,
   "id": "77ec3dd7-9cd6-4aa1-9bdb-abb2fbb5d318",
   "metadata": {},
   "outputs": [],
   "source": [
    "import os\n",
    "import pyspark\n",
    "from pyspark.sql import SparkSession\n",
    "from pyspark.sql.types import *"
   ]
  },
  {
   "cell_type": "code",
   "execution_count": 2,
   "id": "4e989122-f3f5-45ef-9870-406f70ccde06",
   "metadata": {},
   "outputs": [
    {
     "name": "stderr",
     "output_type": "stream",
     "text": [
      "Setting default log level to \"WARN\".\n",
      "To adjust logging level use sc.setLogLevel(newLevel). For SparkR, use setLogLevel(newLevel).\n",
      "25/05/03 11:15:25 WARN NativeCodeLoader: Unable to load native-hadoop library for your platform... using builtin-java classes where applicable\n",
      "25/05/03 11:15:27 WARN Utils: Service 'SparkUI' could not bind on port 4040. Attempting port 4041.\n",
      "25/05/03 11:15:27 WARN Utils: Service 'SparkUI' could not bind on port 4041. Attempting port 4042.\n"
     ]
    }
   ],
   "source": [
    "spark = SparkSession.builder \\\n",
    "    .master(\"local[*]\") \\\n",
    "    .appName(\"test\") \\\n",
    "    .getOrCreate() \\\n",
    "\n",
    "# Set log level to ERROR\n",
    "spark.sparkContext.setLogLevel(\"ERROR\")"
   ]
  },
  {
   "cell_type": "code",
   "execution_count": 3,
   "id": "00f836b9-f5dc-4aba-8f11-b0c8a0dc401a",
   "metadata": {},
   "outputs": [
    {
     "name": "stdout",
     "output_type": "stream",
     "text": [
      "Processing yellow data for 2020/01\n"
     ]
    },
    {
     "name": "stderr",
     "output_type": "stream",
     "text": [
      "                                                                                "
     ]
    },
    {
     "name": "stdout",
     "output_type": "stream",
     "text": [
      "Processing yellow data for 2020/02\n"
     ]
    },
    {
     "name": "stderr",
     "output_type": "stream",
     "text": [
      "                                                                                "
     ]
    },
    {
     "name": "stdout",
     "output_type": "stream",
     "text": [
      "Processing yellow data for 2020/03\n"
     ]
    },
    {
     "name": "stderr",
     "output_type": "stream",
     "text": [
      "                                                                                "
     ]
    },
    {
     "name": "stdout",
     "output_type": "stream",
     "text": [
      "Processing yellow data for 2020/04\n"
     ]
    },
    {
     "name": "stderr",
     "output_type": "stream",
     "text": [
      "                                                                                "
     ]
    },
    {
     "name": "stdout",
     "output_type": "stream",
     "text": [
      "Processing yellow data for 2020/05\n"
     ]
    },
    {
     "name": "stderr",
     "output_type": "stream",
     "text": [
      "                                                                                "
     ]
    },
    {
     "name": "stdout",
     "output_type": "stream",
     "text": [
      "Processing yellow data for 2020/06\n"
     ]
    },
    {
     "name": "stderr",
     "output_type": "stream",
     "text": [
      "                                                                                "
     ]
    },
    {
     "name": "stdout",
     "output_type": "stream",
     "text": [
      "Processing yellow data for 2020/07\n"
     ]
    },
    {
     "name": "stderr",
     "output_type": "stream",
     "text": [
      "                                                                                "
     ]
    },
    {
     "name": "stdout",
     "output_type": "stream",
     "text": [
      "Processing yellow data for 2020/08\n"
     ]
    },
    {
     "name": "stderr",
     "output_type": "stream",
     "text": [
      "                                                                                "
     ]
    },
    {
     "name": "stdout",
     "output_type": "stream",
     "text": [
      "Processing yellow data for 2020/09\n"
     ]
    },
    {
     "name": "stderr",
     "output_type": "stream",
     "text": [
      "                                                                                "
     ]
    },
    {
     "name": "stdout",
     "output_type": "stream",
     "text": [
      "Processing yellow data for 2020/10\n"
     ]
    },
    {
     "name": "stderr",
     "output_type": "stream",
     "text": [
      "                                                                                "
     ]
    },
    {
     "name": "stdout",
     "output_type": "stream",
     "text": [
      "Processing yellow data for 2020/11\n"
     ]
    },
    {
     "name": "stderr",
     "output_type": "stream",
     "text": [
      "                                                                                "
     ]
    },
    {
     "name": "stdout",
     "output_type": "stream",
     "text": [
      "Processing yellow data for 2020/12\n"
     ]
    },
    {
     "name": "stderr",
     "output_type": "stream",
     "text": [
      "                                                                                "
     ]
    },
    {
     "name": "stdout",
     "output_type": "stream",
     "text": [
      "Processing yellow data for 2021/01\n"
     ]
    },
    {
     "name": "stderr",
     "output_type": "stream",
     "text": [
      "                                                                                "
     ]
    },
    {
     "name": "stdout",
     "output_type": "stream",
     "text": [
      "Processing yellow data for 2021/02\n"
     ]
    },
    {
     "name": "stderr",
     "output_type": "stream",
     "text": [
      "                                                                                "
     ]
    },
    {
     "name": "stdout",
     "output_type": "stream",
     "text": [
      "Processing yellow data for 2021/03\n"
     ]
    },
    {
     "name": "stderr",
     "output_type": "stream",
     "text": [
      "                                                                                "
     ]
    },
    {
     "name": "stdout",
     "output_type": "stream",
     "text": [
      "Processing yellow data for 2021/04\n"
     ]
    },
    {
     "name": "stderr",
     "output_type": "stream",
     "text": [
      "                                                                                "
     ]
    },
    {
     "name": "stdout",
     "output_type": "stream",
     "text": [
      "Processing yellow data for 2021/05\n"
     ]
    },
    {
     "name": "stderr",
     "output_type": "stream",
     "text": [
      "                                                                                "
     ]
    },
    {
     "name": "stdout",
     "output_type": "stream",
     "text": [
      "Processing yellow data for 2021/06\n"
     ]
    },
    {
     "name": "stderr",
     "output_type": "stream",
     "text": [
      "                                                                                "
     ]
    },
    {
     "name": "stdout",
     "output_type": "stream",
     "text": [
      "Processing yellow data for 2021/07\n"
     ]
    },
    {
     "name": "stderr",
     "output_type": "stream",
     "text": [
      "                                                                                "
     ]
    },
    {
     "name": "stdout",
     "output_type": "stream",
     "text": [
      "Processing yellow data for 2021/08\n",
      "Processing yellow data for 2021/09\n",
      "Skipping ../datasets/data/raw/yellow/2021/09/ (directory not found)\n",
      "Processing yellow data for 2021/10\n",
      "Skipping ../datasets/data/raw/yellow/2021/10/ (directory not found)\n",
      "Processing yellow data for 2021/11\n",
      "Skipping ../datasets/data/raw/yellow/2021/11/ (directory not found)\n",
      "Processing yellow data for 2021/12\n",
      "Skipping ../datasets/data/raw/yellow/2021/12/ (directory not found)\n",
      "Processing green data for 2020/01\n"
     ]
    },
    {
     "name": "stderr",
     "output_type": "stream",
     "text": [
      "                                                                                "
     ]
    },
    {
     "name": "stdout",
     "output_type": "stream",
     "text": [
      "Processing green data for 2020/02\n"
     ]
    },
    {
     "name": "stderr",
     "output_type": "stream",
     "text": [
      "                                                                                "
     ]
    },
    {
     "name": "stdout",
     "output_type": "stream",
     "text": [
      "Processing green data for 2020/03\n"
     ]
    },
    {
     "name": "stderr",
     "output_type": "stream",
     "text": [
      "                                                                                "
     ]
    },
    {
     "name": "stdout",
     "output_type": "stream",
     "text": [
      "Processing green data for 2020/04\n",
      "Processing green data for 2020/05\n",
      "Processing green data for 2020/06\n",
      "Processing green data for 2020/07\n",
      "Processing green data for 2020/08\n",
      "Processing green data for 2020/09\n",
      "Processing green data for 2020/10\n",
      "Processing green data for 2020/11\n",
      "Processing green data for 2020/12\n",
      "Processing green data for 2021/01\n",
      "Processing green data for 2021/02\n",
      "Processing green data for 2021/03\n",
      "Processing green data for 2021/04\n",
      "Processing green data for 2021/05\n",
      "Processing green data for 2021/06\n",
      "Processing green data for 2021/07\n",
      "Processing green data for 2021/08\n",
      "Processing green data for 2021/09\n",
      "Skipping ../datasets/data/raw/green/2021/09/ (directory not found)\n",
      "Processing green data for 2021/10\n",
      "Skipping ../datasets/data/raw/green/2021/10/ (directory not found)\n",
      "Processing green data for 2021/11\n",
      "Skipping ../datasets/data/raw/green/2021/11/ (directory not found)\n",
      "Processing green data for 2021/12\n",
      "Skipping ../datasets/data/raw/green/2021/12/ (directory not found)\n"
     ]
    }
   ],
   "source": [
    "taxi_types = [\"yellow\", \"green\"]\n",
    "years = [2020, 2021]\n",
    "\n",
    "green_schema = StructType([\n",
    "  StructField(\"VendorID\", IntegerType(), True), \n",
    "  StructField(\"lpep_pickup_datetime\", TimestampType(), True), \n",
    "  StructField(\"lpep_dropoff_datetime\", TimestampType(), True), \n",
    "  StructField(\"store_and_fwd_flag\", StringType(), True), \n",
    "  StructField(\"RatecodeID\", IntegerType(), True), \n",
    "  StructField(\"PULocationID\", IntegerType(), True), \n",
    "  StructField(\"DOLocationID\", IntegerType(), True), \n",
    "  StructField(\"passenger_count\", IntegerType(), True), \n",
    "  StructField(\"trip_distance\", DoubleType(), True), \n",
    "  StructField(\"fare_amount\", DoubleType(), True), \n",
    "  StructField(\"extra\", DoubleType(), True), \n",
    "  StructField(\"mta_tax\", DoubleType(), True), \n",
    "  StructField(\"tip_amount\", DoubleType(), True), \n",
    "  StructField(\"tolls_amount\", DoubleType(), True), \n",
    "  StructField(\"ehail_fee\", DoubleType(), True), \n",
    "  StructField(\"improvement_surcharge\", DoubleType(), True), \n",
    "  StructField(\"total_amount\", DoubleType(), True), \n",
    "  StructField(\"payment_type\", IntegerType(), True), \n",
    "  StructField(\"trip_type\", IntegerType(), True), \n",
    "  StructField(\"congestion_surcharge\", DoubleType(), True)\n",
    "])\n",
    "\n",
    "yellow_schema = StructType([\n",
    "    StructField('VendorID', IntegerType(), True), \n",
    "    StructField('tpep_pickup_datetime', TimestampType(), True), \n",
    "    StructField('tpep_dropoff_datetime', TimestampType(), True), \n",
    "    StructField('passenger_count', IntegerType(), True), \n",
    "    StructField('trip_distance', DoubleType(), True), \n",
    "    StructField('RatecodeID', IntegerType(), True), \n",
    "    StructField('store_and_fwd_flag', StringType(), True), \n",
    "    StructField('PULocationID', IntegerType(), True), \n",
    "    StructField('DOLocationID', IntegerType(), True), \n",
    "    StructField('payment_type', IntegerType(), True), \n",
    "    StructField('fare_amount', DoubleType(), True), \n",
    "    StructField('extra', DoubleType(), True), \n",
    "    StructField('mta_tax', DoubleType(), True), \n",
    "    StructField('tip_amount', DoubleType(), True), \n",
    "    StructField('tolls_amount', DoubleType(), True), \n",
    "    StructField('improvement_surcharge', DoubleType(), True), \n",
    "    StructField('total_amount', DoubleType(), True), \n",
    "    StructField('congestion_surcharge', DoubleType(), True)\n",
    "])\n",
    "\n",
    "for taxi_type in taxi_types:\n",
    "    for year in years:\n",
    "        for month in range(1, 13):\n",
    "            print(f'Processing {taxi_type} data for {year}/{month:02d}')\n",
    "    \n",
    "            input_path = f'../datasets/data/raw/{taxi_type}/{year}/{month:02d}/'\n",
    "            output_path = f'../datasets/data/pq/{taxi_type}/{year}/{month:02d}/'\n",
    "\n",
    "            if not os.path.exists(input_path):\n",
    "                print(f'Skipping {input_path} (directory not found)')\n",
    "                continue\n",
    "                \n",
    "            if taxi_type == 'green':\n",
    "                schema = green_schema\n",
    "            else:\n",
    "                schema = yellow_schema\n",
    "\n",
    "            df_taxi = spark.read \\\n",
    "                .option(\"header\", \"true\") \\\n",
    "                .schema(schema) \\\n",
    "                .csv(input_path)\n",
    "\n",
    "            df_taxi \\\n",
    "                .repartition(4) \\\n",
    "                .write.parquet(output_path)"
   ]
  }
 ],
 "metadata": {
  "kernelspec": {
   "display_name": "Python 3 (ipykernel)",
   "language": "python",
   "name": "python3"
  },
  "language_info": {
   "codemirror_mode": {
    "name": "ipython",
    "version": 3
   },
   "file_extension": ".py",
   "mimetype": "text/x-python",
   "name": "python",
   "nbconvert_exporter": "python",
   "pygments_lexer": "ipython3",
   "version": "3.12.7"
  }
 },
 "nbformat": 4,
 "nbformat_minor": 5
}
