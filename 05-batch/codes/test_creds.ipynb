{
 "cells": [
  {
   "cell_type": "code",
   "execution_count": 1,
   "id": "8114e5d5-69a6-4123-a045-eb01afb17266",
   "metadata": {},
   "outputs": [
    {
     "name": "stdout",
     "output_type": "stream",
     "text": [
      "Buckets:\n",
      "ny_taxi_zoomcamp\n"
     ]
    }
   ],
   "source": [
    "from google.cloud import storage\n",
    "import os\n",
    "\n",
    "# Ganti dengan path ke key file kamu\n",
    "os.environ['GOOGLE_APPLICATION_CREDENTIALS'] = '../../creds/service-key.json'\n",
    "\n",
    "# Inisialisasi client\n",
    "client = storage.Client()\n",
    "\n",
    "# Coba list semua bucket yang bisa diakses\n",
    "buckets = list(client.list_buckets())\n",
    "\n",
    "print(\"Buckets:\")\n",
    "for bucket in buckets:\n",
    "    print(bucket.name)\n"
   ]
  },
  {
   "cell_type": "code",
   "execution_count": 2,
   "id": "83caa9cf-23d6-46a4-bd74-9f72adc30b40",
   "metadata": {},
   "outputs": [
    {
     "name": "stdout",
     "output_type": "stream",
     "text": [
      "Datasets yang tersedia:\n",
      "ny_taxi_zoomcamp\n"
     ]
    }
   ],
   "source": [
    "from google.cloud import bigquery\n",
    "import os\n",
    "\n",
    "# Ganti path ke JSON key kamu\n",
    "os.environ[\"GOOGLE_APPLICATION_CREDENTIALS\"] = '../../creds/service-key.json'\n",
    "\n",
    "# Inisialisasi client\n",
    "client = bigquery.Client()\n",
    "\n",
    "# List semua dataset\n",
    "datasets = list(client.list_datasets())\n",
    "\n",
    "if datasets:\n",
    "    print(\"Datasets yang tersedia:\")\n",
    "    for dataset in datasets:\n",
    "        print(dataset.dataset_id)\n",
    "else:\n",
    "    print(\"Tidak ada dataset ditemukan.\")\n"
   ]
  }
 ],
 "metadata": {
  "kernelspec": {
   "display_name": "Python 3 (ipykernel)",
   "language": "python",
   "name": "python3"
  },
  "language_info": {
   "codemirror_mode": {
    "name": "ipython",
    "version": 3
   },
   "file_extension": ".py",
   "mimetype": "text/x-python",
   "name": "python",
   "nbconvert_exporter": "python",
   "pygments_lexer": "ipython3",
   "version": "3.12.7"
  }
 },
 "nbformat": 4,
 "nbformat_minor": 5
}
