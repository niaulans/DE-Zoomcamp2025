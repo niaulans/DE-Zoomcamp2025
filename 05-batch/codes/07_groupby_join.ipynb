{
 "cells": [
  {
   "cell_type": "code",
   "execution_count": 1,
   "id": "2d8f7c2d-dc19-4b66-8060-e43e2a39ff97",
   "metadata": {},
   "outputs": [],
   "source": [
    "import pyspark\n",
    "from pyspark.sql import SparkSession"
   ]
  },
  {
   "cell_type": "code",
   "execution_count": 2,
   "id": "e00d2d2b-21f1-4354-8dff-eae2f8adcfc6",
   "metadata": {},
   "outputs": [
    {
     "name": "stderr",
     "output_type": "stream",
     "text": [
      "Setting default log level to \"WARN\".\n",
      "To adjust logging level use sc.setLogLevel(newLevel). For SparkR, use setLogLevel(newLevel).\n",
      "25/05/03 11:25:15 WARN NativeCodeLoader: Unable to load native-hadoop library for your platform... using builtin-java classes where applicable\n",
      "25/05/03 11:25:17 WARN Utils: Service 'SparkUI' could not bind on port 4040. Attempting port 4041.\n",
      "25/05/03 11:25:17 WARN Utils: Service 'SparkUI' could not bind on port 4041. Attempting port 4042.\n",
      "25/05/03 11:25:17 WARN Utils: Service 'SparkUI' could not bind on port 4042. Attempting port 4043.\n",
      "25/05/03 11:25:17 WARN Utils: Service 'SparkUI' could not bind on port 4043. Attempting port 4044.\n",
      "25/05/03 11:25:17 WARN Utils: Service 'SparkUI' could not bind on port 4044. Attempting port 4045.\n"
     ]
    }
   ],
   "source": [
    "spark = SparkSession.builder \\\n",
    "    .master(\"local[*]\") \\\n",
    "    .appName(\"test\") \\\n",
    "    .getOrCreate()"
   ]
  },
  {
   "cell_type": "code",
   "execution_count": 3,
   "id": "9cd86972-fb21-4c8f-a200-3080fc0c7ebf",
   "metadata": {},
   "outputs": [
    {
     "name": "stderr",
     "output_type": "stream",
     "text": [
      "                                                                                "
     ]
    }
   ],
   "source": [
    "df_green = spark.read.parquet('../datasets/data/pq/green/*/*')"
   ]
  },
  {
   "cell_type": "code",
   "execution_count": 4,
   "id": "7e07761e-51f3-4067-bb71-1d65739c90a6",
   "metadata": {},
   "outputs": [],
   "source": [
    "df_green.createOrReplaceTempView('green')"
   ]
  },
  {
   "cell_type": "code",
   "execution_count": 5,
   "id": "8ec5b926-d202-4f21-ab55-d83a20d34213",
   "metadata": {},
   "outputs": [],
   "source": [
    "df_green_revenue = spark.sql(\"\"\"\n",
    "SELECT \n",
    "    date_trunc('hour', lpep_pickup_datetime) AS hour,\n",
    "    PULocationID AS zone,\n",
    "\n",
    "    SUM(total_amount) AS amount,\n",
    "    COUNT(1) AS number_records\n",
    "FROM \n",
    "    green\n",
    "WHERE \n",
    "    lpep_pickup_datetime >= '2020-01-01 00:00:00'\n",
    "GROUP BY\n",
    "    1, 2\n",
    "\"\"\")"
   ]
  },
  {
   "cell_type": "code",
   "execution_count": 6,
   "id": "87b38933-6e5f-4f48-9f8d-08df9e757613",
   "metadata": {},
   "outputs": [
    {
     "name": "stderr",
     "output_type": "stream",
     "text": [
      "                                                                                "
     ]
    }
   ],
   "source": [
    "df_green_revenue \\\n",
    "    .repartition(20) \\\n",
    "    .write.parquet('../datasets/data/report/revenue/green', mode='overwrite')"
   ]
  },
  {
   "cell_type": "code",
   "execution_count": 7,
   "id": "39cdfe42-d7f9-4bb8-a935-df732f12d6a7",
   "metadata": {},
   "outputs": [],
   "source": [
    "df_yellow = spark.read.parquet('../datasets/data/pq/yellow/*/*')"
   ]
  },
  {
   "cell_type": "code",
   "execution_count": 8,
   "id": "7fa58921-a8a4-4f58-b808-da7b78c8fea9",
   "metadata": {},
   "outputs": [],
   "source": [
    "df_yellow.createOrReplaceTempView('yellow')"
   ]
  },
  {
   "cell_type": "code",
   "execution_count": 9,
   "id": "cf317aa8-81e0-45b2-8dd4-54efad969f73",
   "metadata": {},
   "outputs": [],
   "source": [
    "df_yellow_revenue = spark.sql(\"\"\"\n",
    "SELECT \n",
    "    date_trunc('hour', tpep_pickup_datetime) AS hour,\n",
    "    PULocationID AS zone,\n",
    "\n",
    "    SUM(total_amount) AS amount,\n",
    "    COUNT(1) AS number_records\n",
    "FROM \n",
    "    yellow\n",
    "WHERE \n",
    "    tpep_pickup_datetime >= '2020-01-01 00:00:00'\n",
    "GROUP BY\n",
    "    1, 2\n",
    "\"\"\")"
   ]
  },
  {
   "cell_type": "code",
   "execution_count": 10,
   "id": "3dfe6c98-d486-425a-827e-692d3f10bd2e",
   "metadata": {},
   "outputs": [
    {
     "name": "stderr",
     "output_type": "stream",
     "text": [
      "                                                                                "
     ]
    }
   ],
   "source": [
    "df_yellow_revenue \\\n",
    "    .repartition(20) \\\n",
    "    .write.parquet('../datasets/data/report/revenue/yellow', mode='overwrite')"
   ]
  },
  {
   "cell_type": "code",
   "execution_count": 11,
   "id": "db90325c-2501-46b5-95a8-1f8407145e09",
   "metadata": {},
   "outputs": [],
   "source": [
    "df_green_revenue_temp = df_green_revenue \\\n",
    "    .withColumnRenamed('amount', 'green_amount') \\\n",
    "    .withColumnRenamed('number_records', 'green_number_records')\n",
    "\n",
    "df_yellow_revenue_temp = df_yellow_revenue \\\n",
    "    .withColumnRenamed('amount', 'yellow_amount') \\\n",
    "    .withColumnRenamed('number_records', 'yellow_number_records')    "
   ]
  },
  {
   "cell_type": "code",
   "execution_count": 12,
   "id": "5873bea6-e7b0-4396-ad7a-607f330dca0b",
   "metadata": {},
   "outputs": [],
   "source": [
    "df_join = df_green_revenue_temp.join(df_yellow_revenue_temp, on=['hour', 'zone'], how='outer')"
   ]
  },
  {
   "cell_type": "code",
   "execution_count": 13,
   "id": "1812a4e3-c629-44d0-9f00-64da85ca25f2",
   "metadata": {},
   "outputs": [
    {
     "name": "stderr",
     "output_type": "stream",
     "text": [
      "                                                                                "
     ]
    }
   ],
   "source": [
    "df_join.write.parquet('../datasets/data/report/revenue/total')"
   ]
  },
  {
   "cell_type": "code",
   "execution_count": 14,
   "id": "9487a61f-8530-44f6-83fb-65fcb0a7aea3",
   "metadata": {},
   "outputs": [
    {
     "data": {
      "text/plain": [
       "DataFrame[hour: timestamp, zone: int, green_amount: double, green_number_records: bigint, yellow_amount: double, yellow_number_records: bigint]"
      ]
     },
     "execution_count": 14,
     "metadata": {},
     "output_type": "execute_result"
    }
   ],
   "source": [
    "df_join"
   ]
  },
  {
   "cell_type": "code",
   "execution_count": 15,
   "id": "39cf9993-8987-4cbc-96ce-662c81f32f64",
   "metadata": {},
   "outputs": [],
   "source": [
    "df_zones = spark.read.parquet('../datasets/zones/')"
   ]
  },
  {
   "cell_type": "code",
   "execution_count": 16,
   "id": "e753c8d0-1461-4d19-8cda-af27ed16a8e9",
   "metadata": {},
   "outputs": [],
   "source": [
    "df_result = df_join.join(df_zones, df_join.zone == df_zones.LocationID)"
   ]
  },
  {
   "cell_type": "code",
   "execution_count": 17,
   "id": "e9685acb-adf5-4fec-b502-50d8be2a7a49",
   "metadata": {},
   "outputs": [
    {
     "name": "stderr",
     "output_type": "stream",
     "text": [
      "                                                                                "
     ]
    }
   ],
   "source": [
    "df_result.drop('LocationID', 'zone').write.parquet('../datasets/tmp/revenue-zones')"
   ]
  },
  {
   "cell_type": "code",
   "execution_count": 18,
   "id": "fc2c778d-f5cf-4caf-9388-cb946aebb5be",
   "metadata": {},
   "outputs": [
    {
     "name": "stderr",
     "output_type": "stream",
     "text": [
      "                                                                                "
     ]
    },
    {
     "name": "stdout",
     "output_type": "stream",
     "text": [
      "+-------------------+----+------------------+--------------------+------------------+---------------------+----------+---------+--------------------+------------+\n",
      "|               hour|zone|      green_amount|green_number_records|     yellow_amount|yellow_number_records|LocationID|  Borough|                Zone|service_zone|\n",
      "+-------------------+----+------------------+--------------------+------------------+---------------------+----------+---------+--------------------+------------+\n",
      "|2020-01-01 00:00:00|   3|              NULL|                NULL|              25.0|                    1|         3|    Bronx|Allerton/Pelham G...|   Boro Zone|\n",
      "|2020-01-01 00:00:00|   4|              NULL|                NULL|1004.3000000000002|                   57|         4|Manhattan|       Alphabet City| Yellow Zone|\n",
      "|2020-01-01 00:00:00|   7| 769.7299999999996|                  45| 455.1700000000001|                   38|         7|   Queens|             Astoria|   Boro Zone|\n",
      "|2020-01-01 00:00:00|  12|              NULL|                NULL|             107.0|                    6|        12|Manhattan|        Battery Park| Yellow Zone|\n",
      "|2020-01-01 00:00:00|  37|            175.67|                   6|161.60999999999999|                    7|        37| Brooklyn|      Bushwick South|   Boro Zone|\n",
      "|2020-01-01 00:00:00|  40|168.97999999999996|                   8|             89.97|                    5|        40| Brooklyn|     Carroll Gardens|   Boro Zone|\n",
      "|2020-01-01 00:00:00|  45|              NULL|                NULL| 732.4800000000002|                   42|        45|Manhattan|           Chinatown| Yellow Zone|\n",
      "|2020-01-01 00:00:00|  47|              13.3|                   1|               8.3|                    1|        47|    Bronx|  Claremont/Bathgate|   Boro Zone|\n",
      "|2020-01-01 00:00:00|  51|              17.8|                   2|              31.0|                    1|        51|    Bronx|          Co-Op City|   Boro Zone|\n",
      "|2020-01-01 00:00:00|  62|             15.95|                   1|             61.43|                    1|        62| Brooklyn| Crown Heights South|   Boro Zone|\n",
      "|2020-01-01 00:00:00|  68|              NULL|                NULL| 7825.070000000012|                  396|        68|Manhattan|        East Chelsea| Yellow Zone|\n",
      "|2020-01-01 00:00:00|  73|              NULL|                NULL|              17.3|                    1|        73|   Queens|       East Flushing|   Boro Zone|\n",
      "|2020-01-01 00:00:00|  74|317.09000000000015|                  24| 586.2100000000002|                   47|        74|Manhattan|   East Harlem North|   Boro Zone|\n",
      "|2020-01-01 00:00:00|  77| 75.99000000000001|                   2|            134.24|                    3|        77| Brooklyn|East New York/Pen...|   Boro Zone|\n",
      "|2020-01-01 00:00:00|  80|364.32000000000005|                  13|             371.4|                   20|        80| Brooklyn|   East Williamsburg|   Boro Zone|\n",
      "|2020-01-01 00:00:00|  83|              94.1|                   7|               9.8|                    1|        83|   Queens|    Elmhurst/Maspeth|   Boro Zone|\n",
      "|2020-01-01 00:00:00|  88|              NULL|                NULL| 823.8000000000002|                   36|        88|Manhattan|Financial Distric...| Yellow Zone|\n",
      "|2020-01-01 00:00:00|  89|              11.3|                   1|             48.16|                    2|        89| Brooklyn|Flatbush/Ditmas Park|   Boro Zone|\n",
      "|2020-01-01 00:00:00|  94| 64.24000000000001|                   3|              13.3|                    1|        94|    Bronx|       Fordham South|   Boro Zone|\n",
      "|2020-01-01 00:00:00|  95|202.20000000000002|                  15|               6.3|                    1|        95|   Queens|        Forest Hills|   Boro Zone|\n",
      "+-------------------+----+------------------+--------------------+------------------+---------------------+----------+---------+--------------------+------------+\n",
      "only showing top 20 rows\n",
      "\n"
     ]
    }
   ],
   "source": [
    "df_result.show()"
   ]
  }
 ],
 "metadata": {
  "kernelspec": {
   "display_name": "Python 3 (ipykernel)",
   "language": "python",
   "name": "python3"
  },
  "language_info": {
   "codemirror_mode": {
    "name": "ipython",
    "version": 3
   },
   "file_extension": ".py",
   "mimetype": "text/x-python",
   "name": "python",
   "nbconvert_exporter": "python",
   "pygments_lexer": "ipython3",
   "version": "3.12.7"
  }
 },
 "nbformat": 4,
 "nbformat_minor": 5
}
