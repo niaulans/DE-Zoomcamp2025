{
 "cells": [
  {
   "cell_type": "code",
   "execution_count": 1,
   "id": "02206064-de11-426f-9c49-ccf007da61c4",
   "metadata": {},
   "outputs": [],
   "source": [
    "import pandas as pd\n",
    "import pyspark\n",
    "from pyspark.sql import SparkSession\n",
    "from pyspark.sql.types import *"
   ]
  },
  {
   "cell_type": "code",
   "execution_count": 2,
   "id": "1dab613e-5f31-4aa7-9bfe-5d87a0fbe56b",
   "metadata": {},
   "outputs": [
    {
     "name": "stderr",
     "output_type": "stream",
     "text": [
      "Setting default log level to \"WARN\".\n",
      "To adjust logging level use sc.setLogLevel(newLevel). For SparkR, use setLogLevel(newLevel).\n",
      "25/04/27 12:39:02 WARN NativeCodeLoader: Unable to load native-hadoop library for your platform... using builtin-java classes where applicable\n",
      "25/04/27 12:39:03 WARN Utils: Service 'SparkUI' could not bind on port 4040. Attempting port 4041.\n"
     ]
    }
   ],
   "source": [
    "spark = SparkSession.builder \\\n",
    "        .master(\"local[*]\") \\\n",
    "        .appName(\"test\") \\\n",
    "        .getOrCreate()"
   ]
  },
  {
   "cell_type": "code",
   "execution_count": 3,
   "id": "a05806cc-21b0-4e32-a76d-a20b1eb2337a",
   "metadata": {},
   "outputs": [],
   "source": [
    "df_green= spark.read \\\n",
    "    .option(\"header\", \"true\") \\\n",
    "    .csv('data/raw/green/2021/01/')"
   ]
  },
  {
   "cell_type": "code",
   "execution_count": 4,
   "id": "f574ea90-3fa0-438d-a27f-2f2c6f23dc2e",
   "metadata": {},
   "outputs": [
    {
     "ename": "NameError",
     "evalue": "name 'df' is not defined",
     "output_type": "error",
     "traceback": [
      "\u001b[31m---------------------------------------------------------------------------\u001b[39m",
      "\u001b[31mNameError\u001b[39m                                 Traceback (most recent call last)",
      "\u001b[36mCell\u001b[39m\u001b[36m \u001b[39m\u001b[32mIn[4]\u001b[39m\u001b[32m, line 1\u001b[39m\n\u001b[32m----> \u001b[39m\u001b[32m1\u001b[39m \u001b[43mdf\u001b[49m.printSchema()\n",
      "\u001b[31mNameError\u001b[39m: name 'df' is not defined"
     ]
    }
   ],
   "source": [
    "df_green.printSchema()"
   ]
  },
  {
   "cell_type": "code",
   "execution_count": null,
   "id": "c1363ed6-7730-47f3-b3b7-7dcc790d6f95",
   "metadata": {},
   "outputs": [],
   "source": [
    "df_green_pd = pd.read_csv('data/raw/green/2021/01/green_tripdata_2021_01.csv.gz', nrows=1000)"
   ]
  },
  {
   "cell_type": "code",
   "execution_count": null,
   "id": "a4416c70-df7d-480a-bc5c-0e4d827b6fdb",
   "metadata": {},
   "outputs": [],
   "source": [
    "df_green_pd.dtypes"
   ]
  },
  {
   "cell_type": "code",
   "execution_count": null,
   "id": "12b34f51-f94d-4fb8-bc0a-8987341d72f9",
   "metadata": {},
   "outputs": [],
   "source": [
    "spark.createDataFrame(df_green_pd).schema"
   ]
  },
  {
   "cell_type": "code",
   "execution_count": null,
   "id": "98db7680-5d23-413b-9a0c-cd5a35c99277",
   "metadata": {},
   "outputs": [],
   "source": [
    "schema_green = StructType([\n",
    "  StructField(\"VendorID\", IntegerType(), True), \n",
    "  StructField(\"lpep_pickup_datetime\", TimestampType(), True), \n",
    "  StructField(\"lpep_dropoff_datetime\", TimestampType(), True), \n",
    "  StructField(\"store_and_fwd_flag\", StringType(), True), \n",
    "  StructField(\"RatecodeID\", IntegerType(), True), \n",
    "  StructField(\"PULocationID\", IntegerType(), True), \n",
    "  StructField(\"DOLocationID\", IntegerType(), True), \n",
    "  StructField(\"passenger_count\", IntegerType(), True), \n",
    "  StructField(\"trip_distance\", DoubleType(), True), \n",
    "  StructField(\"fare_amount\", DoubleType(), True), \n",
    "  StructField(\"extra\", DoubleType(), True), \n",
    "  StructField(\"mta_tax\", DoubleType(), True), \n",
    "  StructField(\"tip_amount\", DoubleType(), True), \n",
    "  StructField(\"tolls_amount\", DoubleType(), True), \n",
    "  StructField(\"ehail_fee\", DoubleType(), True), \n",
    "  StructField(\"improvement_surcharge\", DoubleType(), True), \n",
    "  StructField(\"total_amount\", DoubleType(), True), \n",
    "  StructField(\"payment_type\", IntegerType(), True), \n",
    "  StructField(\"trip_type\", IntegerType(), True), \n",
    "  StructField(\"congestion_surcharge\", DoubleType(), True)\n",
    "])"
   ]
  },
  {
   "cell_type": "code",
   "execution_count": null,
   "id": "0e474c90-89bc-460e-a776-0547fc5ce1a4",
   "metadata": {},
   "outputs": [],
   "source": [
    "df_green= spark.read \\\n",
    "    .option(\"header\", \"true\") \\\n",
    "    .schema(schema_green) \\\n",
    "    .csv('data/raw/green/2021/01/')"
   ]
  },
  {
   "cell_type": "code",
   "execution_count": null,
   "id": "6fec9351-d4dc-46bb-aea0-65c527a5a6e7",
   "metadata": {},
   "outputs": [],
   "source": [
    "df_green.printSchema()"
   ]
  },
  {
   "cell_type": "code",
   "execution_count": null,
   "id": "b6e04a03-ccc2-4bec-87fd-b2e2fd7e87ba",
   "metadata": {},
   "outputs": [],
   "source": [
    "df_yellow_pd = pd.read_csv('data/raw/yellow/2021/01/yellow_tripdata_2021_01.csv.gz', nrows=1000)"
   ]
  },
  {
   "cell_type": "code",
   "execution_count": null,
   "id": "a4b8963a-ceba-4a23-8912-21361ff3720f",
   "metadata": {},
   "outputs": [],
   "source": [
    "spark.createDataFrame(df_yellow_pd).schema"
   ]
  },
  {
   "cell_type": "code",
   "execution_count": null,
   "id": "061f5171-14cd-40ed-bb2d-f478d0eaefd3",
   "metadata": {},
   "outputs": [],
   "source": [
    "schema_yellow = StructType([\n",
    "    StructField('VendorID', IntegerType(), True), \n",
    "    StructField('tpep_pickup_datetime', TimestampType(), True), \n",
    "    StructField('tpep_dropoff_datetime', TimestampType(), True), \n",
    "    StructField('passenger_count', IntegerType(), True), \n",
    "    StructField('trip_distance', DoubleType(), True), \n",
    "    StructField('RatecodeID', IntegerType(), True), \n",
    "    StructField('store_and_fwd_flag', StringType(), True), \n",
    "    StructField('PULocationID', IntegerType(), True), \n",
    "    StructField('DOLocationID', IntegerType(), True), \n",
    "    StructField('payment_type', IntegerType(), True), \n",
    "    StructField('fare_amount', DoubleType(), True), \n",
    "    StructField('extra', DoubleType(), True), \n",
    "    StructField('mta_tax', DoubleType(), True), \n",
    "    StructField('tip_amount', DoubleType(), True), \n",
    "    StructField('tolls_amount', DoubleType(), True), \n",
    "    StructField('improvement_surcharge', DoubleType(), True), \n",
    "    StructField('total_amount', DoubleType(), True), \n",
    "    StructField('congestion_surcharge', DoubleType(), True)\n",
    "])"
   ]
  },
  {
   "cell_type": "code",
   "execution_count": null,
   "id": "02b023e3-30f0-4aec-a6d7-990cc4a065bc",
   "metadata": {},
   "outputs": [],
   "source": [
    "df_yellow= spark.read \\\n",
    "    .option(\"header\", \"true\") \\\n",
    "    .schema(schema_yellow) \\\n",
    "    .csv('data/raw/green/2021/01/')"
   ]
  },
  {
   "cell_type": "code",
   "execution_count": null,
   "id": "42d42ea3-2fdf-4488-a780-cbb4ada1c335",
   "metadata": {},
   "outputs": [],
   "source": [
    "df_yellow.printSchema()"
   ]
  }
 ],
 "metadata": {
  "kernelspec": {
   "display_name": "Python 3 (ipykernel)",
   "language": "python",
   "name": "python3"
  },
  "language_info": {
   "codemirror_mode": {
    "name": "ipython",
    "version": 3
   },
   "file_extension": ".py",
   "mimetype": "text/x-python",
   "name": "python",
   "nbconvert_exporter": "python",
   "pygments_lexer": "ipython3",
   "version": "3.12.7"
  }
 },
 "nbformat": 4,
 "nbformat_minor": 5
}
